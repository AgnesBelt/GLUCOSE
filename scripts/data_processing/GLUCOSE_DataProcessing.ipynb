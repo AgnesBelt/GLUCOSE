{
 "cells": [
  {
   "cell_type": "code",
   "execution_count": 1,
   "metadata": {},
   "outputs": [],
   "source": [
    "import pandas as pd\n",
    "import matplotlib.pyplot as plt\n",
    "import plotly.express as px\n",
    "import numpy as np\n",
    "\n",
    "from pathlib import Path\n",
    "\n",
    "import os\n",
    "\n",
    "import glob\n",
    "\n",
    "import pickle"
   ]
  },
  {
   "cell_type": "code",
   "execution_count": 2,
   "metadata": {},
   "outputs": [
    {
     "name": "stdout",
     "output_type": "stream",
     "text": [
      "Infeasible scenarios: 0\n",
      "Number of replications/runs: 0\n",
      "[]\n"
     ]
    }
   ],
   "source": [
    "#read in the path to the folder of interest\n",
    "folder_in = 'input_data/GLUCOSE_noDA2CS_14_2'\n",
    "folder_out = 'results/GLUCOSE_noDA2CS_14_2'\n",
    "\n",
    "myPath = Path('..','..',f'{folder_out}', 'results_csv')\n",
    "tifCounter = len(glob.glob1(myPath,\"*.ilp\"))\n",
    "print('Infeasible scenarios:', tifCounter)\n",
    "\n",
    "#data processing from GLUCOSE scenarios runs\n",
    "#creating a database with yearly data inputs\n",
    "#configfile: \"config/config.yaml\"\n",
    "\n",
    "myPath = Path(f'{folder_out}','results_csv')\n",
    "n_replications = int(len(glob.glob1(myPath,\"*.sol\")))\n",
    "print(\"Number of replications/runs:\", n_replications)\n",
    "replications = list(range(0,n_replications))\n",
    "print(replications)"
   ]
  },
  {
   "cell_type": "code",
   "execution_count": 3,
   "metadata": {},
   "outputs": [
    {
     "name": "stdout",
     "output_type": "stream",
     "text": [
      "['C1BFRDF00' 'C1ELRDF00' 'C1ELRLF00' 'C1HFMRF00' 'C1LFAVF00' 'C1LFRDF00'\n",
      " 'C1LFRLF00' 'C1MHMRF00']\n",
      "['ALU' 'AMM' 'CEM' 'FERT' 'LAND' 'MFOO' 'PAP' 'PET' 'STE' 'VFOO' 'XALU'\n",
      " 'XCEM' 'XPHO' 'XPOT' 'XSTE']\n",
      "['ALUPLANT' 'ALURCPLANT' 'CEMPLANT' 'CEMCSPLANT' 'FERTPLANT' 'PAPELPLANT'\n",
      " 'PAPPLANT' 'PETAPLANT' 'PETBELPLANT' 'PETBPLANT' 'STEHGPLANT' 'STEPLANT']\n",
      "['ALURECYCLE' 'XALUMINE' 'XCEMMINE' 'XPHOMINE' 'XPOTMINE' 'XSTEMINE']\n"
     ]
    }
   ],
   "source": [
    "#%% read in model parameter data\n",
    "\n",
    "FUEL = pd.read_csv(Path('..','..',f'{folder_in}', 'data_csv', 'FUEL.csv'))\n",
    "TECH = pd.read_csv(Path('..','..',f'{folder_in}', 'data_csv', 'TECHNOLOGY.csv'))\n",
    "\n",
    "## energy fuels\n",
    "energy_fuel = FUEL.loc[(FUEL.VALUE.str[0:2] == 'C1')]\n",
    "PrimEN_fuel = (energy_fuel.loc[(energy_fuel.VALUE.str[3:4] == 'P')|(energy_fuel.VALUE.str[3:4] == 'R')]).VALUE.unique()\n",
    "SecEN_fuel = (energy_fuel.loc[(energy_fuel.VALUE.str[3:4] == 'S')]).VALUE.unique()\n",
    "#print(SecEN_fuel)\n",
    "FinalEN_fuel = (energy_fuel.loc[(energy_fuel.VALUE.str[3:4] == 'F')]).VALUE.unique()\n",
    "#print(FinalEN_fuel)\n",
    "## energy techs\n",
    "energy_tech = TECH.loc[(TECH.VALUE.str[0:2] == 'C1')]\n",
    "ResEN_tech = (energy_tech.loc[(energy_tech.VALUE.str[6:7] == 'I')]).VALUE.unique()\n",
    "RE_tech = (energy_tech.loc[(energy_tech.VALUE.str[2:4] == 'SO')|(energy_tech.VALUE.str[2:4] == 'WD')|(energy_tech.VALUE.str[2:4] == 'HY')|(energy_tech.VALUE.str[2:4] == 'GO')|(energy_tech.VALUE.str[2:4] == 'OC')]).VALUE.unique()\n",
    "PrimEN_tech = (energy_tech.loc[(energy_tech.VALUE.str[6:7] == 'P')|(energy_tech.VALUE.str[6:7] == '0')]).VALUE.unique()\n",
    "SecEN_tech = (energy_tech.loc[(energy_tech.VALUE.str[6:7] == 'T')]).VALUE.unique()\n",
    "#print(SecEN_tech)\n",
    "FinalEN_tech = (energy_tech.loc[(energy_tech.VALUE.str[6:7] == 'F')]).VALUE.unique()\n",
    "#print(FinalEN_tech)\n",
    "Transport_tech = (energy_tech.loc[(energy_tech.VALUE.str[4:6] == 'RD')|(energy_tech.VALUE.str[4:6] == 'RL')|(energy_tech.VALUE.str[4:6] == 'AV')|(energy_tech.VALUE.str[4:6] == 'MR')]).VALUE.unique()\n",
    "print(Transport_tech)\n",
    "\n",
    "## land and food fuels\n",
    "land_fuel = (FUEL.loc[(FUEL.VALUE.str[0:1] == 'L')]).VALUE.unique()\n",
    "food_fuel = (FUEL.loc[(FUEL.VALUE.str[0:1] == 'M')|(FUEL.VALUE.str[0:1] == 'V')]).VALUE.unique()\n",
    "## land and food techs\n",
    "land_tech = (TECH.loc[(TECH.VALUE.str[0:1] == 'L')]).VALUE.unique()\n",
    "food_tech = (TECH.loc[(TECH.VALUE.str[0:1] == 'M')|(TECH.VALUE.str[0:1] == 'V')]).VALUE.unique()\n",
    "\n",
    "## materials fuels\n",
    "material_fuel = (FUEL.loc[(FUEL.VALUE.str.len() == 3)|(FUEL.VALUE.str.len() == 4)]).VALUE.unique()\n",
    "print(material_fuel)\n",
    "## materials techs\n",
    "industry_tech = (TECH.loc[(TECH.VALUE.str[-5:] == 'PLANT')]).VALUE.unique()\n",
    "print(industry_tech)\n",
    "material_tech = (TECH.loc[(TECH.VALUE.str[-4:] == 'MINE')|(TECH.VALUE.str[-7:] == 'RECYCLE')]).VALUE.unique()\n",
    "print(material_tech)\n",
    "\n",
    "## emissions\n",
    "EMISSION = pd.read_csv(Path('..','..',f'{folder_in}','data_csv', 'EMISSION.csv'))\n",
    "emissions = (EMISSION.loc[(EMISSION.VALUE.str.len() == 5)]).VALUE.unique()\n",
    "\n",
    "## timeframe / modelling period\n",
    "YEAR = pd.read_csv(Path('..','..',f'{folder_in}','data_csv', 'YEAR.csv'))\n",
    "YEAR = YEAR.iloc[:-10]\n",
    "#print(YEAR)\n",
    "\n",
    "# parameter_file = glob.glob1(folder_in, '*parameters*')\n",
    "# parameters_GLUCOSE = pd.read_csv(Path('..','..',f'{folder_in}',f'{parameter_file}'))\n",
    "# col = parameters_GLUCOSE['indexes']"
   ]
  },
  {
   "cell_type": "code",
   "execution_count": 4,
   "metadata": {},
   "outputs": [],
   "source": [
    "# Function for calculating yearly technology penetration (incremental share of electrical capacity)\n",
    "def percentage_change(col1,col2):\n",
    "    return ((col2 - col1) / col1) * 100"
   ]
  },
  {
   "cell_type": "code",
   "execution_count": 5,
   "metadata": {},
   "outputs": [],
   "source": [
    "# #%% read in value of uncertainty inputs in 2050 - see parameters.csv file under config/ folder - only for RDM analysis\n",
    "\n",
    "# inputs_GLUCOSE = pd.DataFrame(index=replications)\n",
    "# yr = 2050\n",
    "\n",
    "\n",
    "# for variable in (parameters_GLUCOSE['name']):\n",
    "# #path = 'results/0/model_{run}/data/AccumulatedAnnualDemand.csv'\n",
    "#     csv_file_data = Path('..', '..', f'{folder_in}','data_csv', f'{variable}.csv')\n",
    "#     #csv_file_data2 = Path('results', '0', f'model_{run}', 'data', 'SpecifiedAnnualDemand.csv')\n",
    "#     if not os.path.exists(csv_file_data):\n",
    "#         pass\n",
    "#     else:\n",
    "#         data=pd.read_csv(csv_file_data)\n",
    "#         parameters = parameters_GLUCOSE.loc[parameters_GLUCOSE['name']==variable]\n",
    "#         for param in parameters['indexes']:\n",
    "#             if variable[-6:] == 'Demand':\n",
    "#                 fuel = param[6:]\n",
    "#                 selection = data.loc[(data[\"FUEL\"]==fuel)&(data[\"YEAR\"]==yr)]\n",
    "#                 inputs_GLUCOSE.loc[run,(''.join(c for c in variable if c.isupper())+','+fuel)]=selection.VALUE.sum() \n",
    "#             if (variable == 'InputActivityRatio')|(variable == 'OutputActivityRatio'):\n",
    "#                 technology = param.split(\",\")[1].strip()\n",
    "#                 fuel = param.split(\",\")[2].strip()\n",
    "#                 ModOp = param.split(\",\")[3].strip()\n",
    "#                 selection = data.loc[(data[\"TECHNOLOGY\"]==technology)&(data[\"FUEL\"]==fuel)&(data[\"MODE_OF_OPERATION\"]==ModOp)&(data[\"YEAR\"]==yr)]\n",
    "#                 inputs_GLUCOSE.loc[run,(''.join(c for c in variable if c.isupper())+','+technology+','+fuel)]=selection.VALUE.sum() \n",
    "#             if (variable == 'TotalAnnualMaxCapacityInvestment')|(variable == 'TotalTechnologyAnnualActivityUpperLimit'):\n",
    "#                 technology = param.split(\",\")[1].strip()\n",
    "#                 selection = data.loc[(data[\"TECHNOLOGY\"]==technology)&(data[\"YEAR\"]==yr)]\n",
    "#                 inputs_GLUCOSE.loc[run,(''.join(c for c in variable if c.isupper())+','+technology)]=selection.VALUE.sum() \n",
    "#             if variable == 'AnnualEmissionLimit':\n",
    "#                 emission = param.split(\",\")[1].strip()\n",
    "#                 selection = data.loc[(data[\"EMISSION\"]==emission)&(data[\"YEAR\"]==yr)]\n",
    "#                 inputs_GLUCOSE.loc[run,(''.join(c for c in variable if c.isupper())+','+emission)]=selection.VALUE.sum() \n",
    "#             if variable == 'EmissionActivityRatio':\n",
    "#                 technology = param.split(\",\")[1].strip()\n",
    "#                 emission = param.split(\",\")[2].strip()\n",
    "#                 selection = data.loc[(data[\"TECHNOLOGY\"]==technology)&(data[\"EMISSION\"]==emission)&(data[\"YEAR\"]==yr)]\n",
    "#                 inputs_GLUCOSE.loc[run,(''.join(c for c in variable if c.isupper())+','+technology+','+emission)]=selection.VALUE.sum() \n",
    "#             if variable == 'EmissionsPenalty':\n",
    "#                 #technology = param.split(\",\")[1].strip()\n",
    "#                 emission = param.split(\",\")[1].strip()\n",
    "#                 selection = data.loc[(data[\"EMISSION\"]==emission)&(data[\"YEAR\"]==yr)]\n",
    "#                 inputs_GLUCOSE.loc[run,(''.join(c for c in variable if c.isupper())+','+emission)]=selection.VALUE.sum() \n"
   ]
  },
  {
   "cell_type": "code",
   "execution_count": 6,
   "metadata": {},
   "outputs": [],
   "source": [
    "# # save uncertainty inputs into file\n",
    "# output = 'GLUCOSE_DataInputs'\n",
    "\n",
    "# #fp = open(f'{output}'+'.p', 'wb')\n",
    "# my_path = Path('..', '..', f'{folder_out}', 'results_processed', f'{output}'+'.p') \n",
    "# with my_path.open('wb') as fp:\n",
    "#     pickle.dump(inputs_GLUCOSE, fp)"
   ]
  },
  {
   "cell_type": "code",
   "execution_count": 7,
   "metadata": {},
   "outputs": [],
   "source": [
    "CO2EQ_GLUCOSE = pd.Series(index=YEAR.VALUE, dtype='float64') \n",
    "ccs_em = pd.Series(index=YEAR.VALUE, dtype='float64')  \n",
    "WATER_GLUCOSE = pd.Series(index=YEAR.VALUE, dtype='float64')  \n",
    "LAi_GLUC = pd.Series(index=YEAR.VALUE, dtype='float64')  \n",
    "LF_GLUCOSE = pd.Series(index=YEAR.VALUE, dtype='float64')  \n",
    "NU_prod = pd.Series(index=YEAR.VALUE, dtype='float64')  \n",
    "NU_cap = pd.Series(index=YEAR.VALUE, dtype='float64')  \n",
    "BM_use = pd.Series(index=YEAR.VALUE, dtype='float64')  "
   ]
  },
  {
   "cell_type": "code",
   "execution_count": 8,
   "metadata": {},
   "outputs": [
    {
     "name": "stderr",
     "output_type": "stream",
     "text": [
      "/var/folders/g0/db564x8n6j14t8scrcvbrmsc0000gn/T/ipykernel_18944/3559684680.py:42: UserWarning: Boolean Series key will be reindexed to match DataFrame index.\n",
      "  AnnualTechnologyEmission_ccs = (AnnualTechnologyEmission.loc[(AnnualTechnologyEmission['TECHNOLOGY'].str[-2:] == 'CS')|(AnnualTechnologyEmission['TECHNOLOGY'].str[-7:-5] == 'CS')])[(AnnualTechnologyEmission['EMISSION'] == ems)&(AnnualTechnologyEmission['YEAR'] == year)]\n"
     ]
    }
   ],
   "source": [
    "#%% processing results - read in selected results for year 2050\n",
    "results_file1 = Path('..', '..', f'{folder_out}', 'results_csv', 'TotalAnnualTechnologyActivityByMode.csv')\n",
    "results_file2 = Path('..', '..', f'{folder_out}', 'results_csv', 'AnnualEmissions.csv')\n",
    "results_file3 = Path('..', '..', f'{folder_out}', 'results_csv', 'AnnualTechnologyEmission.csv')\n",
    "results_file4 = Path('..', '..', f'{folder_out}', 'results_csv', 'ProductionByTechnologyAnnual.csv')\n",
    "results_file5 = Path('..', '..', f'{folder_out}', 'results_csv', 'TotalCapacityAnnual.csv')\n",
    "results_file6 = Path('..', '..', f'{folder_out}', 'results_csv', 'UseByTechnology.csv')\n",
    "\n",
    "if not os.path.exists(results_file1):\n",
    "    pass\n",
    "else:\n",
    "    TotalAnnualTechnologyActivityByMode=pd.read_csv(results_file1)\n",
    "    AnnualEmissions = pd.read_csv(results_file2)\n",
    "    AnnualTechnologyEmission = pd.read_csv(results_file3)\n",
    "    ProductionByTechnologyAnnual = pd.read_csv(results_file4)\n",
    "    TotalCapacityAnnual = pd.read_csv(results_file5)\n",
    "    UseByTechnology = pd.read_csv(results_file6)        \n",
    "    for year in YEAR.VALUE:\n",
    "        for tech in land_tech:\n",
    "            if tech == 'LF':\n",
    "                land_temp = TotalAnnualTechnologyActivityByMode[(TotalAnnualTechnologyActivityByMode['TECHNOLOGY'] == tech)&(TotalAnnualTechnologyActivityByMode['YEAR'] == year)&(TotalAnnualTechnologyActivityByMode['MODE_OF_OPERATION'] == 1)]\n",
    "                LF_GLUCOSE.loc[year] = land_temp['VALUE'].sum()\n",
    "            if tech == 'LA1_i':\n",
    "                land_temp = TotalAnnualTechnologyActivityByMode[(TotalAnnualTechnologyActivityByMode['TECHNOLOGY'] == tech)&(TotalAnnualTechnologyActivityByMode['YEAR'] == year)&(TotalAnnualTechnologyActivityByMode['MODE_OF_OPERATION'] == 1)]\n",
    "                LAi_GLUC.loc[year] = land_temp['VALUE'].sum()\n",
    "            for tech in PrimEN_tech:\n",
    "                if tech[2:4]=='NU':\n",
    "                    production = ProductionByTechnologyAnnual[(ProductionByTechnologyAnnual['TECHNOLOGY']==tech)&(ProductionByTechnologyAnnual['YEAR']== year)]\n",
    "                    capacity = TotalCapacityAnnual[(TotalCapacityAnnual['TECHNOLOGY']==tech)&(TotalCapacityAnnual['YEAR']== year)]\n",
    "                    NU_prod.loc[year] = production['VALUE'].sum()\n",
    "                    NU_cap.loc[year] = capacity['VALUE'].sum()\n",
    "        use = UseByTechnology.loc[(UseByTechnology['TECHNOLOGY'].str[2:4]=='BM')&(UseByTechnology['FUEL']=='C1_P_BIOW')&(UseByTechnology['YEAR']==year)]\n",
    "        #UseByTechnology[(UseByTechnology['FUEL']==fuel)&(UseByTechnology['TECHNOLOGY']==tech)&(UseByTechnology['YEAR']==year)]\n",
    "        BM_use.loc[year] = use['VALUE'].sum()\n",
    "        for ems in emissions:\n",
    "            if ems == 'CO2EQ':\n",
    "                em = AnnualEmissions[(AnnualEmissions['EMISSION'] == ems)&(AnnualEmissions['YEAR'] == year)]\n",
    "                AnnualTechnologyEmission_ccs = AnnualTechnologyEmission.loc[(AnnualTechnologyEmission['TECHNOLOGY'].str[-2:] == 'CS')|(AnnualTechnologyEmission['TECHNOLOGY'].str[-7:-5] == 'CS')]\n",
    "                AnnualTechnologyEmission_ccs_em = AnnualTechnologyEmission_ccs[(AnnualTechnologyEmission_ccs['EMISSION'] == ems)&(AnnualTechnologyEmission_ccs['YEAR'] == year)]\n",
    "                CO2EQ_GLUCOSE.loc[year] = em.VALUE.sum()# em['VALUE'].values\n",
    "                if not AnnualTechnologyEmission_ccs_em.empty:\n",
    "                    AnnualTechnologyEmission_ccs = (AnnualTechnologyEmission.loc[(AnnualTechnologyEmission['TECHNOLOGY'].str[-2:] == 'CS')|(AnnualTechnologyEmission['TECHNOLOGY'].str[-7:-5] == 'CS')])[(AnnualTechnologyEmission['EMISSION'] == ems)&(AnnualTechnologyEmission['YEAR'] == year)]\n",
    "                    ccs_em.loc[year] = AnnualTechnologyEmission_ccs_em.VALUE.sum()\n",
    "            if ems == 'WATER':\n",
    "                em = AnnualEmissions[(AnnualEmissions['EMISSION'] == ems)&(AnnualEmissions['YEAR'] == year)]\n",
    "                WATER_GLUCOSE.loc[year] = em.VALUE.sum()"
   ]
  },
  {
   "cell_type": "code",
   "execution_count": 9,
   "metadata": {},
   "outputs": [],
   "source": [
    "#%% processing results - read in selected results for year 2050\n",
    "\n",
    "# CO2EQ_GLUCOSE = pd.DataFrame(columns=YEAR.VALUE).fillna(0)\n",
    "# ccs_em = pd.DataFrame(columns=YEAR.VALUE).fillna(0)\n",
    "# WATER_GLUCOSE = pd.DataFrame(columns=YEAR.VALUE).fillna(0)\n",
    "# LAi_GLUC = pd.DataFrame(columns=YEAR.VALUE).fillna(0)\n",
    "# LF_GLUCOSE = pd.DataFrame(columns=YEAR.VALUE).fillna(0)\n",
    "# NU_prod = pd.DataFrame(columns=YEAR.VALUE).fillna(0)\n",
    "# NU_cap = pd.DataFrame(columns=YEAR.VALUE).fillna(0)\n",
    "# BM_use = pd.DataFrame(columns=YEAR.VALUE).fillna(0)\n",
    "\n",
    "\n",
    "# results_file1 = Path('..', '..', f'{folder_out}', 'results_csv', 'TotalAnnualTechnologyActivityByMode.csv')\n",
    "# results_file2 = Path('..', '..', f'{folder_out}', 'results_csv', 'AnnualEmissions.csv')\n",
    "# results_file3 = Path('..', '..', f'{folder_out}', 'results_csv', 'AnnualTechnologyEmission.csv')\n",
    "# results_file4 = Path('..', '..', f'{folder_out}', 'results_csv', 'ProductionByTechnologyAnnual.csv')\n",
    "# results_file5 = Path('..', '..', f'{folder_out}', 'results_csv', 'TotalCapacityAnnual.csv')\n",
    "# results_file6 = Path('..', '..', f'{folder_out}', 'results_csv', 'UseByTechnology.csv')\n",
    "# if not os.path.exists(results_file1):\n",
    "#     pass\n",
    "# else:\n",
    "#     TotalAnnualTechnologyActivityByMode=pd.read_csv(results_file1)\n",
    "#     AnnualEmissions = pd.read_csv(results_file2)\n",
    "#     AnnualTechnologyEmission = pd.read_csv(results_file3)\n",
    "#     ProductionByTechnologyAnnual = pd.read_csv(results_file4)\n",
    "#     TotalCapacityAnnual = pd.read_csv(results_file5)\n",
    "#     UseByTechnology = pd.read_csv(results_file6)        \n",
    "#     for year in YEAR.VALUE:\n",
    "#         for tech in land_tech:\n",
    "#             if tech == 'LF':\n",
    "#                 land_temp = TotalAnnualTechnologyActivityByMode[(TotalAnnualTechnologyActivityByMode['TECHNOLOGY'] == tech)&(TotalAnnualTechnologyActivityByMode['YEAR'] == year)&(TotalAnnualTechnologyActivityByMode['MODE_OF_OPERATION'] == 1)]\n",
    "#                 LF_GLUCOSE.loc[0,year] = land_temp['VALUE'].sum()\n",
    "#             if tech == 'LA1_i':\n",
    "#                 land_temp = TotalAnnualTechnologyActivityByMode[(TotalAnnualTechnologyActivityByMode['TECHNOLOGY'] == tech)&(TotalAnnualTechnologyActivityByMode['YEAR'] == year)&(TotalAnnualTechnologyActivityByMode['MODE_OF_OPERATION'] == 1)]\n",
    "#                 LAi_GLUC.loc[0,year] = land_temp['VALUE'].sum()\n",
    "#             for tech in PrimEN_tech:\n",
    "#                 if tech[2:4]=='NU':\n",
    "#                     production = ProductionByTechnologyAnnual[(ProductionByTechnologyAnnual['TECHNOLOGY']==tech)&(ProductionByTechnologyAnnual['YEAR']== year)]\n",
    "#                     capacity = TotalCapacityAnnual[(TotalCapacityAnnual['TECHNOLOGY']==tech)&(TotalCapacityAnnual['YEAR']== year)]\n",
    "#                     NU_prod.loc[0,year] = production['VALUE'].sum()\n",
    "#                     NU_cap.loc[0,year] = capacity['VALUE'].sum()\n",
    "#         use = UseByTechnology.loc[(UseByTechnology['TECHNOLOGY'].str[2:4]=='BM')&(UseByTechnology['FUEL']=='C1_P_BIOW')&(UseByTechnology['YEAR']==year)]\n",
    "#         #UseByTechnology[(UseByTechnology['FUEL']==fuel)&(UseByTechnology['TECHNOLOGY']==tech)&(UseByTechnology['YEAR']==year)]\n",
    "#         BM_use.loc[0,year] = use['VALUE'].sum()\n",
    "#         for ems in emissions:\n",
    "#             if ems == 'CO2EQ':\n",
    "#                 em = AnnualEmissions[(AnnualEmissions['EMISSION'] == ems)&(AnnualEmissions['YEAR'] == year)]\n",
    "#                 AnnualTechnologyEmission_ccs = AnnualTechnologyEmission.loc[(AnnualTechnologyEmission['TECHNOLOGY'].str[-2:] == 'CS')|(AnnualTechnologyEmission['TECHNOLOGY'].str[-7:-5] == 'CS')]\n",
    "#                 AnnualTechnologyEmission_ccs_em = AnnualTechnologyEmission_ccs[(AnnualTechnologyEmission_ccs['EMISSION'] == ems)&(AnnualTechnologyEmission_ccs['YEAR'] == year)]\n",
    "#                 CO2EQ_GLUCOSE.loc[0,year] = em.VALUE.sum()# em['VALUE'].values\n",
    "#                 if not AnnualTechnologyEmission_ccs_em.empty:\n",
    "#                     AnnualTechnologyEmission_ccs = (AnnualTechnologyEmission.loc[(AnnualTechnologyEmission['TECHNOLOGY'].str[-2:] == 'CS')])[(AnnualTechnologyEmission['EMISSION'] == ems)&(AnnualTechnologyEmission['YEAR'] == year)]\n",
    "#                     ccs_em.loc[0,year] = AnnualTechnologyEmission_ccs_em.VALUE.sum()\n",
    "#             if ems == 'WATER':\n",
    "#                 em = AnnualEmissions[(AnnualEmissions['EMISSION'] == ems)&(AnnualEmissions['YEAR'] == year)]\n",
    "#                 WATER_GLUCOSE.loc[0,year] = em.VALUE.sum()"
   ]
  },
  {
   "cell_type": "code",
   "execution_count": 10,
   "metadata": {},
   "outputs": [],
   "source": [
    "#%% read in GLUCOSE results: ProductionByTechnologyAnnual - Primary Energy\n",
    "PrimEn = {}\n",
    "RE_tech = pd.Series(RE_tech).str[2:4].unique()\n",
    "#ResEN_tech = pd.Series(ResEN_tech).str[2:4].unique()\n",
    "ResEN_tech = np.append(ResEN_tech, 'BM')\n",
    "\n",
    "\n",
    "PrimEn = pd.DataFrame(index=YEAR.VALUE, columns=(list(ResEN_tech)+list(RE_tech))).fillna(0)\n",
    "results_file1 = Path('..', '..', f'{folder_out}', 'results_csv', 'ProductionByTechnologyAnnual.csv')\n",
    "results_file2 = Path('..', '..', f'{folder_out}', 'results_csv', 'UseByTechnology.csv')\n",
    "if not os.path.exists(results_file1):\n",
    "    pass\n",
    "else:\n",
    "    ProductionByTechnologyAnnual=pd.read_csv(results_file1)\n",
    "    UseByTechnology=pd.read_csv(results_file2)\n",
    "    for year in YEAR.VALUE:\n",
    "        for tech in ResEN_tech:\n",
    "            PrimEn_temp = ProductionByTechnologyAnnual[(ProductionByTechnologyAnnual['TECHNOLOGY'] == tech)&(ProductionByTechnologyAnnual['YEAR'] == year)]\n",
    "            PrimEn.loc[year,tech] = PrimEn_temp['VALUE'].sum()\n",
    "        Use_temp = UseByTechnology.loc[(UseByTechnology['TECHNOLOGY'].str[2:4]=='BM')&(UseByTechnology['FUEL']=='C1_P_BIOW')&(UseByTechnology['YEAR']==year)]\n",
    "        PrimEn.loc[year, 'BM']+= Use_temp['VALUE'].sum()\n",
    "        for tech in RE_tech:\n",
    "            PrimREn_temp = ProductionByTechnologyAnnual.loc[(ProductionByTechnologyAnnual['TECHNOLOGY'].str[2:4] == tech)&(ProductionByTechnologyAnnual['YEAR'] == year)]\n",
    "            PrimEn.loc[year, tech] = PrimREn_temp['VALUE'].sum()\n"
   ]
  },
  {
   "cell_type": "code",
   "execution_count": 11,
   "metadata": {},
   "outputs": [],
   "source": [
    "# RE_tech = pd.Series(RE_tech).str[2:4].unique()\n",
    "# print(RE_tech)\n",
    "# #ResEN_tech = pd.Series(ResEN_tech).str[2:4].unique()\n",
    "# #ResEN_tech = np.append(ResEN_tech)#, 'BM')\n",
    "# print(ResEN_tech)\n",
    "\n",
    "# PrimEn= pd.DataFrame(columns=['RUN', 'TECHNOLOGY', 'YEAR', 'VALUE'])"
   ]
  },
  {
   "cell_type": "code",
   "execution_count": 12,
   "metadata": {},
   "outputs": [],
   "source": [
    "#%% read in GLUCOSE results: ProductionByTechnologyAnnual - Primary Energy\n",
    "#PrimEn = {}\n",
    "#RE_tech = pd.Series(RE_tech).str[2:4].unique()\n",
    "#ResEN_tech = pd.Series(ResEN_tech).str[2:4].unique()\n",
    "#ResEN_tech = np.append(ResEN_tech)#, 'BM')\n",
    "#print(ResEN_tech)\n",
    "\n",
    "# #PrimEn= pd.DataFrame(columns=['RUN', 'TECHNOLOGY', 'YEAR', 'VALUE'])\n",
    "# for run in replications:\n",
    "#     results_file1 = Path(f'{folder}', 'results', '0', f'{run}', 'ProductionByTechnologyAnnual.csv')\n",
    "#     results_file2 = Path(f'{folder}', 'results', '0', f'{run}', 'UseByTechnology.csv')\n",
    "#     if not os.path.exists(results_file1):\n",
    "#         pass\n",
    "#     else:\n",
    "#         ProductionByTechnologyAnnual=pd.read_csv(results_file1)\n",
    "#         UseByTechnology=pd.read_csv(results_file2)\n",
    "#         for tech in ResEN_tech:\n",
    "#             PrimEn_temp = ProductionByTechnologyAnnual[(ProductionByTechnologyAnnual['TECHNOLOGY'] == tech)]\n",
    "#             PrimEn_temp=PrimEn_temp.drop(['REGION','FUEL'], axis=1)\n",
    "#             PrimEn_temp['RUN'] = run\n",
    "#             print(PrimEn_temp)\n",
    "#             PrimEn = pd.concat([PrimEn, PrimEn_temp], axis=0, ignore_index=True)\n",
    "#         #print(PrimEn)\n",
    "#         for tech in RE_tech:\n",
    "#             PrimREn_temp = ProductionByTechnologyAnnual.loc[(ProductionByTechnologyAnnual['TECHNOLOGY'].str[2:4] == tech)]\n",
    "#             PrimREn_temp['VALUE']=PrimREn_temp.groupby(['YEAR'])['VALUE'].transform(sum)\n",
    "#             PrimREn_temp = PrimREn_temp.drop(['REGION','FUEL'], axis=1)\n",
    "#             PrimREn_temp['RUN'] = run\n",
    "#             PrimREn_temp['TECHNOLOGY'] = tech\n",
    "#             print(PrimREn_temp)\n",
    "#             PrimEn = pd.concat([PrimEn, PrimREn_temp], axis=0, ignore_index=True)\n",
    "#         print(PrimEn)\n",
    "        # Use_temp = UseByTechnology.loc[(UseByTechnology['TECHNOLOGY'].str[2:4]=='BM')&(UseByTechnology['FUEL']=='C1_P_BIOW')]\n",
    "        # #Use_temp=Use_temp.drop(['REGION', 'TIMESLICE'], axis=1)\n",
    "        # Use_temp['VALUE']=Use_temp.groupby(['YEAR'])['VALUE'].transform(sum)\n",
    "        # #print(Use_temp)\n",
    "        # Use_temp=Use_temp.drop(['REGION','TIMESLICE','FUEL'], axis=1)\n",
    "        # Use_temp['RUN'] = run\n",
    "        # Use_temp['TECHNOLOGY'] = 'BM'\n",
    "        # print(Use_temp)\n",
    "        # PrimEn = pd.concat([PrimEn, Use_temp], axis=0, ignore_index=True)\n",
    "        #     \n",
    "        # for year in Use_temp.YEAR.unique():\n",
    "        #     value = Use_temp.loc[Use_temp['YEAR'] == year, 'VALUE'].sum()\n",
    "        #     Use_temp.drop(['REGION','TIMESLICE','FUEL'], axis=1)\n",
    "        #     Use_temp['RUN'] = run\n",
    "        #     Use_temp['TECHNOLOGY'] = 'BM'\n",
    "        #     Use_temp['VALUE'] = value\n",
    "        #     #print(Use_temp)\n",
    "        #     PrimEn = pd.concat([PrimEn, Use_temp], axis=0, ignore_index=True)\n",
    "\n",
    "        # for tech in RE_tech:\n",
    "        #     PrimREn_temp = ProductionByTechnologyAnnual.loc[(ProductionByTechnologyAnnual['TECHNOLOGY'].str[2:4] == tech)]\n",
    "        #     PrimREn_temp.drop(['REGION','FUEL'], axis=1)\n",
    "        #     PrimREn_temp['RUN'] = run\n",
    "        #     PrimREn_temp['TECHNOLOGY'] = tech\n"
   ]
  },
  {
   "cell_type": "code",
   "execution_count": 13,
   "metadata": {},
   "outputs": [],
   "source": [
    "folder_path = Path('..', '..', f'{folder_out}', 'results_processed') \n",
    "if not os.path.exists(folder_path):\n",
    "    os.makedirs(folder_path)"
   ]
  },
  {
   "cell_type": "code",
   "execution_count": 14,
   "metadata": {},
   "outputs": [],
   "source": [
    "# save results ProductionByTechnologyAnnual - Primary Energy into file\n",
    "output = 'GLUCOSE_PrimaryEnergy'\n",
    "\n",
    "#fp = open(f'{output}'+'.p', 'wb')\n",
    "my_path = Path('..', '..', f'{folder_out}', 'results_processed', f'{output}'+'.p') \n",
    "with my_path.open('wb') as fp:\n",
    "    pickle.dump(PrimEn, fp)"
   ]
  },
  {
   "cell_type": "code",
   "execution_count": 15,
   "metadata": {},
   "outputs": [],
   "source": [
    "#%% read in GLUCOSE results: TotalCapacityAnnual - Electrical Capacity\n",
    "Capacity_elc = {}\n",
    "#RE_tech = pd.Series(RE_tech).str[2:4].unique()\n",
    "PrimEN_tech_abb = (pd.Series(PrimEN_tech).str[2:4].unique())\n",
    "PrimEN_tech = np.append(PrimEN_tech, 'BM')\n",
    "\n",
    "Capacity_elc = pd.DataFrame(index=YEAR.VALUE, columns=(list(PrimEN_tech_abb))).fillna(0)\n",
    "results_file1 = Path('..', '..', f'{folder_out}', 'results_csv', 'TotalCapacityAnnual.csv')\n",
    "results_file2 = Path('..', '..', f'{folder_in}', 'data_csv', 'OutputActivityRatio.csv')\n",
    "if not os.path.exists(results_file1)|os.path.exists(results_file2):\n",
    "    pass\n",
    "else:\n",
    "    TotalCapacityAnnual=pd.read_csv(results_file1)\n",
    "    OutputActivityRatio=pd.read_csv(results_file2)\n",
    "    for tech in PrimEN_tech:\n",
    "        if tech[-2:] != 'CS':\n",
    "            for year in YEAR.VALUE:\n",
    "                #for tech in PrimEN_tech:\n",
    "                OAR = (OutputActivityRatio[(OutputActivityRatio['TECHNOLOGY'] == tech)&(OutputActivityRatio['YEAR'] == year)&(OutputActivityRatio['MODE_OF_OPERATION'] == 1)]).FUEL\n",
    "                for oar in OAR:\n",
    "                    if oar == 'C1_S_ELC':\n",
    "                        Capacity_elc_temp = TotalCapacityAnnual[(TotalCapacityAnnual['TECHNOLOGY'] == tech)&(TotalCapacityAnnual['YEAR'] == year)]\n",
    "                        tech_abb = tech[2:4]\n",
    "                        Capacity_elc.loc[year,tech_abb] += Capacity_elc_temp['VALUE'].sum()\n",
    "        else:\n",
    "            ccs_abb = tech[2:4]+tech[-2:]\n",
    "            Capacity_elc[ccs_abb]=0\n",
    "            for year in YEAR.VALUE:\n",
    "                #for tech in PrimEN_tech:\n",
    "                OAR = (OutputActivityRatio[(OutputActivityRatio['TECHNOLOGY'] == tech)&(OutputActivityRatio['YEAR'] == year)&(OutputActivityRatio['MODE_OF_OPERATION'] == 1)]).FUEL\n",
    "                for oar in OAR:\n",
    "                    if oar == 'C1_S_ELC':\n",
    "                        Capacity_elc_temp = TotalCapacityAnnual[(TotalCapacityAnnual['TECHNOLOGY'] == tech)&(TotalCapacityAnnual['YEAR'] == year)]\n",
    "                        Capacity_elc.loc[year,ccs_abb] += Capacity_elc_temp['VALUE'].sum()\n",
    "\n",
    "        # Use_temp = UseByTechnology.loc[(UseByTechnology['TECHNOLOGY'].str[2:4]=='BM')&(UseByTechnology['FUEL']=='C1_P_BIOW')&(UseByTechnology['YEAR']==year)]\n",
    "        # PrimEn[run].loc[year, 'BM']+= Use_temp['VALUE'].sum()\n",
    "        # for tech in RE_tech:\n",
    "        #     TPES_temp = ProductionByTechnologyAnnual.loc[(ProductionByTechnologyAnnual['TECHNOLOGY'].str[2:4] == tech)&(ProductionByTechnologyAnnual['YEAR'] == year)]\n",
    "        #     TPES[run].loc[year, tech] = TPES_temp['VALUE'].sum()"
   ]
  },
  {
   "cell_type": "code",
   "execution_count": 16,
   "metadata": {},
   "outputs": [],
   "source": [
    "# save results TotalCapacityAnnual - Electrical Capacity into file\n",
    "output = 'GLUCOSE_ElectricalCapacity'\n",
    "\n",
    "#fp = open(f'{output}'+'.p', 'wb')\n",
    "my_path = Path('..', '..', f'{folder_out}', 'results_processed', f'{output}'+'.p') \n",
    "with my_path.open('wb') as fp:\n",
    "    pickle.dump(Capacity_elc, fp)"
   ]
  },
  {
   "cell_type": "code",
   "execution_count": 17,
   "metadata": {},
   "outputs": [],
   "source": [
    "#%% read in GLUCOSE results: TotalAnnualTechnologyActivityByMode - Land Use\n",
    "LandResources = {}\n",
    "land_tech = ['LA1', 'LA1_i', 'LA2', 'LF1', 'LF2', 'LO']\n",
    "# for tech in land_tech:\n",
    "#     LandResources[run]=pd.DataFrame(index=YEAR.VALUE, columns=land_tech).fillna(0)\n",
    "\n",
    "\n",
    "LandResources=pd.DataFrame(index=YEAR.VALUE, columns=(list(land_tech))).fillna(0)\n",
    "results_file1 = Path('..', '..', f'{folder_out}', 'results_csv', 'TotalAnnualTechnologyActivityByMode.csv')\n",
    "if not os.path.exists(results_file1):\n",
    "    pass\n",
    "else:\n",
    "    TotalAnnualTechnologyActivityByMode=pd.read_csv(results_file1)\n",
    "    for year in YEAR.VALUE:\n",
    "        for tech in land_tech:\n",
    "            Land_temp = TotalAnnualTechnologyActivityByMode[(TotalAnnualTechnologyActivityByMode['TECHNOLOGY'] == tech)&(TotalAnnualTechnologyActivityByMode['YEAR'] == year)&(TotalAnnualTechnologyActivityByMode['MODE_OF_OPERATION'] == 1)]\n",
    "            LandResources.loc[year, tech] = Land_temp['VALUE'].sum()"
   ]
  },
  {
   "cell_type": "code",
   "execution_count": 18,
   "metadata": {},
   "outputs": [],
   "source": [
    "# save results TotalAnnualTechnologyActivityByMode - Land Use into file\n",
    "output = 'GLUCOSE_LandUse'\n",
    "\n",
    "#fp = open(f'{output}'+'.p', 'wb')\n",
    "my_path = Path('..', '..', f'{folder_out}', 'results_processed', f'{output}'+'.p') \n",
    "with my_path.open('wb') as fp:\n",
    "    pickle.dump(LandResources, fp)"
   ]
  },
  {
   "cell_type": "code",
   "execution_count": 19,
   "metadata": {},
   "outputs": [],
   "source": [
    "#%% read in GLUCOSE results: ProductionByTechnologyAnnual - Industry\n",
    "IndustryProd = {}\n",
    "\n",
    "IndustryProd=pd.DataFrame(index=YEAR.VALUE, columns=(list(industry_tech))).fillna(0)\n",
    "results_file1 = Path('..', '..', f'{folder_out}', 'results_csv', 'ProductionByTechnologyAnnual.csv')\n",
    "if not os.path.exists(results_file1):\n",
    "    pass\n",
    "else:\n",
    "    ProductionByTechnologyAnnual=pd.read_csv(results_file1)\n",
    "    for year in YEAR.VALUE:\n",
    "        for tech in industry_tech:\n",
    "            for fuel in material_fuel:\n",
    "                Industry_temp = ProductionByTechnologyAnnual[(ProductionByTechnologyAnnual['TECHNOLOGY'] == tech)&(ProductionByTechnologyAnnual['YEAR'] == year)&(ProductionByTechnologyAnnual['FUEL'] == fuel)]\n",
    "                IndustryProd.loc[year, tech] += Industry_temp['VALUE'].sum()"
   ]
  },
  {
   "cell_type": "code",
   "execution_count": 20,
   "metadata": {},
   "outputs": [],
   "source": [
    "# save results ProductionByTechnologyAnnual - Industry into file\n",
    "output = 'GLUCOSE_IndustryProduction'\n",
    "\n",
    "#fp = open(f'{output}'+'.p', 'wb')\n",
    "my_path = Path('..', '..', f'{folder_out}', 'results_processed', f'{output}'+'.p') \n",
    "with my_path.open('wb') as fp:\n",
    "    pickle.dump(IndustryProd, fp)"
   ]
  },
  {
   "cell_type": "code",
   "execution_count": 21,
   "metadata": {},
   "outputs": [],
   "source": [
    "#%% read in GLUCOSE results: ProductionByTechnologyAnnual - Primary Energy, RENEWABLES\n",
    "# RE penetration \n",
    "RE_prod = pd.DataFrame(columns=YEAR.VALUE).fillna(0)\n",
    "\n",
    "PrimEn_RE = PrimEn.iloc[: , -6:].sum(axis=1)\n",
    "RE_prod = PrimEn_RE.transpose()"
   ]
  },
  {
   "cell_type": "code",
   "execution_count": 22,
   "metadata": {},
   "outputs": [],
   "source": [
    "# save GLUCOSE results: ProductionByTechnologyAnnual - Primary Energy, RENEWABLES into file\n",
    "output = 'GLUCOSE_PrimaryEnergy_RE'\n",
    "\n",
    "#fp = open(f'{output}'+'.p', 'wb')\n",
    "my_path = Path('..', '..', f'{folder_out}', 'results_processed', f'{output}'+'.p') \n",
    "with my_path.open('wb') as fp:\n",
    "    pickle.dump(RE_prod, fp)"
   ]
  },
  {
   "cell_type": "code",
   "execution_count": 23,
   "metadata": {},
   "outputs": [],
   "source": [
    "#%% read in GLUCOSE results: TotalCapacityAnnual - Electrical Capacity, RENEWABLES\n",
    "# RE penetration \n",
    "\n",
    "#RES = pd.Series(pd.Series(RE_tech).str[2:4].unique())\n",
    "RES = np.append(RE_tech, 'BM')\n",
    "RE_cap = pd.DataFrame(columns=YEAR.VALUE).fillna(0)\n",
    "\n",
    "ElcCap_RE = pd.Series(index=YEAR.VALUE, dtype=float).fillna(0)\n",
    "for t in RES:\n",
    "    ElcCap_RE += Capacity_elc[t]\n",
    "RE_cap = ElcCap_RE.transpose()\n"
   ]
  },
  {
   "cell_type": "code",
   "execution_count": 24,
   "metadata": {},
   "outputs": [],
   "source": [
    "# save GLUCOSE results: TotalCapacityAnnual - Electrical Capacity, RENEWABLES into file\n",
    "output = 'GLUCOSE_ElectricalCapacity_RE'\n",
    "\n",
    "#fp = open(f'{output}'+'.p', 'wb')\n",
    "my_path = Path('..', '..', f'{folder_out}', 'results_processed', f'{output}'+'.p') \n",
    "with my_path.open('wb') as fp:\n",
    "    pickle.dump(RE_cap, fp)"
   ]
  },
  {
   "cell_type": "code",
   "execution_count": 25,
   "metadata": {},
   "outputs": [
    {
     "name": "stderr",
     "output_type": "stream",
     "text": [
      "/var/folders/g0/db564x8n6j14t8scrcvbrmsc0000gn/T/ipykernel_18944/2870987108.py:2: FutureWarning: The default dtype for empty Series will be 'object' instead of 'float64' in a future version. Specify a dtype explicitly to silence this warning.\n",
      "  RE_cap_diff = pd.Series(index=range(2020,2051))\n"
     ]
    }
   ],
   "source": [
    "# calculate technology penetration rate: TotalCapacityAnnual - Electrical Capacity, RENEWABLES \n",
    "RE_cap_diff = pd.Series(index=range(2020,2051))\n",
    "for c in RE_cap_diff.index:\n",
    "    RE_cap_diff[c]= RE_cap[c] - RE_cap[c-1]"
   ]
  },
  {
   "cell_type": "code",
   "execution_count": 26,
   "metadata": {},
   "outputs": [],
   "source": [
    "# save technology penetration rate: TotalCapacityAnnual - Electrical Capacity, RENEWABLE\n",
    "output = 'GLUCOSE_ElectricalCapacity_RE_diff'\n",
    "\n",
    "#fp = open(f'{output}'+'.p', 'wb')\n",
    "my_path = Path('..', '..', f'{folder_out}', 'results_processed', f'{output}'+'.p') \n",
    "with my_path.open('wb') as fp:\n",
    "    pickle.dump(RE_cap_diff, fp)"
   ]
  },
  {
   "cell_type": "code",
   "execution_count": 27,
   "metadata": {},
   "outputs": [],
   "source": [
    "#%% read in GLUCOSE results: ProductionByTechnologyAnnual - Primary Energy, NUCLEAR\n",
    "# nuclear penetration\n",
    "NU_prod = pd.Series(index=YEAR.VALUE, dtype='float64') #.fillna(0)\n",
    "\n",
    "PrimEn_techs = pd.Series(PrimEn.columns) \n",
    "NU_tech = PrimEn_techs[PrimEn_techs.str[2:4]=='NU']\n",
    "PrimEn_NU = PrimEn[NU_tech]\n",
    "NU_prod = PrimEn_NU"
   ]
  },
  {
   "cell_type": "code",
   "execution_count": 28,
   "metadata": {},
   "outputs": [],
   "source": [
    "# save GLUCOSE results: ProductionByTechnologyAnnual - Primary Energy, NUCLEAR into file\n",
    "output = 'GLUCOSE_PrimaryEnergy_NU'\n",
    "\n",
    "#fp = open(f'{output}'+'.p', 'wb')\n",
    "my_path = Path('..', '..', f'{folder_out}', 'results_processed', f'{output}'+'.p') \n",
    "with my_path.open('wb') as fp:\n",
    "    pickle.dump(NU_prod, fp)"
   ]
  },
  {
   "cell_type": "code",
   "execution_count": 29,
   "metadata": {},
   "outputs": [],
   "source": [
    "#%% read in GLUCOSE results: TotalCapacityAnnual - Electrical Capacity, NUCLEAR\n",
    "# nuclear penetration\n",
    "NU_cap = pd.Series(index=YEAR.VALUE, dtype='float64')#.fillna(0)\n",
    "\n",
    "NU_tech = PrimEn_techs[PrimEn_techs.str[2:4]=='NU']\n",
    "#CapElc_NU = Capacity_elc[run][NU_tech.str[2:4]]\n",
    "NU_cap = Capacity_elc[NU_tech.str[2:4]].transpose()"
   ]
  },
  {
   "cell_type": "code",
   "execution_count": 30,
   "metadata": {},
   "outputs": [],
   "source": [
    "# save GLUCOSE results: TotalCapacityAnnual - Electrical Capacity, NUCLEAR\n",
    "output = 'GLUCOSE_ElectricalCapacity_NU'\n",
    "\n",
    "#fp = open(f'{output}'+'.p', 'wb')\n",
    "my_path = Path('..', '..', f'{folder_out}', 'results_processed', f'{output}'+'.p') \n",
    "with my_path.open('wb') as fp:\n",
    "    pickle.dump(NU_cap, fp)"
   ]
  },
  {
   "cell_type": "code",
   "execution_count": 31,
   "metadata": {},
   "outputs": [],
   "source": [
    "# calculate technology penetration rate: TotalCapacityAnnual - Electrical Capacity, NUCLEAR \n",
    "NU_cap_diff = pd.Series(index=range(2020,2051), dtype='float64')\n",
    "for c in NU_cap_diff.index:\n",
    "    NU_cap_diff[c]=NU_cap[c]-NU_cap[c-1]\n",
    "\n",
    "NU_cap_diff = NU_cap_diff.T"
   ]
  },
  {
   "cell_type": "code",
   "execution_count": 32,
   "metadata": {},
   "outputs": [],
   "source": [
    "# save technology penetration rate: TotalCapacityAnnual - Electrical Capacity, NUCLEAR \n",
    "output = 'GLUCOSE_ElectricalCapacity_NU_diff'\n",
    "\n",
    "#fp = open(f'{output}'+'.p', 'wb')\n",
    "my_path = Path('..', '..', f'{folder_out}', 'results_processed', f'{output}'+'.p') \n",
    "with my_path.open('wb') as fp:\n",
    "    pickle.dump(NU_cap_diff, fp)"
   ]
  },
  {
   "cell_type": "code",
   "execution_count": 33,
   "metadata": {},
   "outputs": [],
   "source": [
    "#%% read in GLUCOSE results: TotalCapacityAnnual - Electrical Capacity, CCS\n",
    "# CCS penetration\n",
    "CCS_ElcCap = pd.Series(index=YEAR.VALUE, dtype='float64')\n",
    "\n",
    "Capacity_elc_techs = pd.Series(Capacity_elc.columns) \n",
    "CCS_tech = Capacity_elc_techs[Capacity_elc_techs.str[-2:]=='CS']\n",
    "Cap_CCS = Capacity_elc[CCS_tech].sum(axis=1)\n",
    "CCS_ElcCap = Cap_CCS.T\n"
   ]
  },
  {
   "cell_type": "code",
   "execution_count": 34,
   "metadata": {},
   "outputs": [],
   "source": [
    "# save GLUCOSE results: TotalCapacityAnnual - Electrical Capacity, CCS into file\n",
    "output = 'GLUCOSE_ElectricalCapacity_CCS'\n",
    "\n",
    "#fp = open(f'{output}'+'.p', 'wb')\n",
    "my_path = Path('..', '..', f'{folder_out}', 'results_processed', f'{output}'+'.p') \n",
    "with my_path.open('wb') as fp:\n",
    "    pickle.dump(CCS_ElcCap, fp)"
   ]
  },
  {
   "cell_type": "code",
   "execution_count": 35,
   "metadata": {},
   "outputs": [
    {
     "name": "stderr",
     "output_type": "stream",
     "text": [
      "/var/folders/g0/db564x8n6j14t8scrcvbrmsc0000gn/T/ipykernel_18944/1685421715.py:2: FutureWarning: The default dtype for empty Series will be 'object' instead of 'float64' in a future version. Specify a dtype explicitly to silence this warning.\n",
      "  CCS_ElcCap_diff = pd.Series(index=range(2020,2051))\n"
     ]
    }
   ],
   "source": [
    "# calculate technology penetration rate: TotalCapacityAnnual - Electrical Capacity, CCS\n",
    "CCS_ElcCap_diff = pd.Series(index=range(2020,2051))\n",
    "for c in CCS_ElcCap_diff.index:\n",
    "    CCS_ElcCap_diff[c]=CCS_ElcCap[c]-CCS_ElcCap[c-1]\n",
    "\n",
    "# save GLUCOSE results: TotalCapacityAnnual - Electrical Capacity, CCS into file\n",
    "output = 'GLUCOSE_ElectricalCapacity_CCS_diff'\n",
    "\n",
    "#fp = open(f'{output}'+'.p', 'wb')\n",
    "my_path = Path('..', '..', f'{folder_out}', 'results_processed', f'{output}'+'.p') \n",
    "with my_path.open('wb') as fp:\n",
    "    pickle.dump(CCS_ElcCap_diff, fp)"
   ]
  },
  {
   "cell_type": "code",
   "execution_count": 36,
   "metadata": {},
   "outputs": [],
   "source": [
    "#%% read in GLUCOSE data: AccumulatedAnnualDemand - Food - Crops, Livestock\n",
    "# food consumption\n",
    "Demand_MFOO = pd.DataFrame(columns=YEAR.VALUE).fillna(0)\n",
    "Demand_VFOO = pd.DataFrame(columns=YEAR.VALUE).fillna(0)\n",
    "\n",
    "variable = 'AccumulatedAnnualDemand'\n",
    "csv_file = Path('..', '..', f'{folder_in}', 'data_csv', f'{variable}.csv')\n",
    "AccumulatedAnnualDemand = pd.read_csv(csv_file)\n",
    "MFOO = AccumulatedAnnualDemand.loc[(AccumulatedAnnualDemand[\"FUEL\"]=='MFOO')]\n",
    "VFOO = AccumulatedAnnualDemand.loc[(AccumulatedAnnualDemand[\"FUEL\"]=='VFOO')]\n",
    "for year in YEAR.VALUE:\n",
    "    MFOO_temp = MFOO[(MFOO['YEAR'] == year)]\n",
    "    VFOO_temp = VFOO[(VFOO['YEAR'] == year)]\n",
    "    Demand_MFOO.loc[0, year] = MFOO_temp['VALUE'].sum()\n",
    "    Demand_VFOO.loc[0, year] = VFOO_temp['VALUE'].sum()"
   ]
  },
  {
   "cell_type": "code",
   "execution_count": 37,
   "metadata": {},
   "outputs": [],
   "source": [
    "# save GLUCOSE data: AccumulatedAnnualDemand - Food - Crops, Livestock into file\n",
    "output1 = 'GLUCOSE_FoodDemand_VFOO'\n",
    "output2 = 'GLUCOSE_FoodDemand_MFOO'\n",
    "\n",
    "#fp = open(f'{output1}'+'.p', 'wb')\n",
    "my_path = Path('..', '..', f'{folder_out}', 'results_processed', f'{output}'+'.p') \n",
    "with my_path.open('wb') as fp:\n",
    "    pickle.dump(Demand_VFOO, fp)\n",
    "\n",
    "#fp = open(f'{output2}'+'.p', 'wb')\n",
    "my_path = Path('..', '..', f'{folder_out}', 'results_processed', f'{output}'+'.p') \n",
    "with my_path.open('wb') as fp:\n",
    "    pickle.dump(Demand_MFOO, fp)"
   ]
  },
  {
   "cell_type": "code",
   "execution_count": 38,
   "metadata": {},
   "outputs": [
    {
     "name": "stderr",
     "output_type": "stream",
     "text": [
      "/var/folders/g0/db564x8n6j14t8scrcvbrmsc0000gn/T/ipykernel_18944/1912903872.py:3: FutureWarning: The default dtype for empty Series will be 'object' instead of 'float64' in a future version. Specify a dtype explicitly to silence this warning.\n",
      "  Forest_tot = pd.Series(index=YEAR.VALUE).fillna(0)\n"
     ]
    }
   ],
   "source": [
    "#%% read in GLUCOSE results: TotalAnnualTechnologyActivityByMode - Land Use, Forest land\n",
    "# total forest land (LF1+LF2)\n",
    "Forest_tot = pd.Series(index=YEAR.VALUE).fillna(0)\n",
    "\n",
    "LF_tot = LandResources['LF1']+LandResources['LF2']\n",
    "Forest_tot = LF_tot.T\n",
    "#print(Forest_tot)"
   ]
  },
  {
   "cell_type": "code",
   "execution_count": 39,
   "metadata": {},
   "outputs": [],
   "source": [
    "# save GLUCOSE results: TotalAnnualTechnologyActivityByMode - Land Use, Forest land into file\n",
    "output = 'GLUCOSE_LandUse_LF'\n",
    "\n",
    "#fp = open(f'{output}'+'.p', 'wb')\n",
    "my_path = Path('..', '..', f'{folder_out}', 'results_processed', f'{output}'+'.p') \n",
    "with my_path.open('wb') as fp:\n",
    "    pickle.dump(Forest_tot, fp)"
   ]
  },
  {
   "cell_type": "code",
   "execution_count": 40,
   "metadata": {},
   "outputs": [
    {
     "name": "stderr",
     "output_type": "stream",
     "text": [
      "/var/folders/g0/db564x8n6j14t8scrcvbrmsc0000gn/T/ipykernel_18944/1915406326.py:6: FutureWarning: The default dtype for empty Series will be 'object' instead of 'float64' in a future version. Specify a dtype explicitly to silence this warning.\n",
      "  Emissions[e] = pd.Series(index=YEAR.VALUE)\n",
      "/var/folders/g0/db564x8n6j14t8scrcvbrmsc0000gn/T/ipykernel_18944/1915406326.py:6: FutureWarning: The default dtype for empty Series will be 'object' instead of 'float64' in a future version. Specify a dtype explicitly to silence this warning.\n",
      "  Emissions[e] = pd.Series(index=YEAR.VALUE)\n"
     ]
    }
   ],
   "source": [
    "#%% read in GLUCOSE results: AnnualEmissions\n",
    "# Total Emissions - CO2EQ and WATER\n",
    "Emissions = {}\n",
    "\n",
    "for e in emissions:\n",
    "    Emissions[e] = pd.Series(index=YEAR.VALUE)\n",
    "    csv_file = Path('..', '..', f'{folder_out}', 'results_csv', 'AnnualEmissions.csv')\n",
    "    if not os.path.exists(csv_file):\n",
    "        pass\n",
    "    else:\n",
    "        AnnualEmissions = pd.read_csv(csv_file)\n",
    "        for year in YEAR.VALUE:\n",
    "            em_temp = AnnualEmissions[(AnnualEmissions['EMISSION'] == e)&(AnnualEmissions['YEAR'] == year)]\n",
    "            Emissions[e].loc[year] = em_temp['VALUE'].sum()\n",
    "\n",
    "e_co2eq = Emissions['CO2EQ']\n",
    "e_water = Emissions['WATER']"
   ]
  },
  {
   "cell_type": "code",
   "execution_count": 41,
   "metadata": {},
   "outputs": [],
   "source": [
    "# save GLUCOSE results: AnnualEmissions into file\n",
    "output = 'GLUCOSE_Emissions'\n",
    "\n",
    "#fp = open(f'{output}'+'.p', 'wb')\n",
    "my_path = Path('..', '..', f'{folder_out}', 'results_processed', f'{output}'+'.p') \n",
    "with my_path.open('wb') as fp:\n",
    "    pickle.dump(Emissions, fp)"
   ]
  },
  {
   "cell_type": "code",
   "execution_count": 42,
   "metadata": {},
   "outputs": [
    {
     "name": "stderr",
     "output_type": "stream",
     "text": [
      "/var/folders/g0/db564x8n6j14t8scrcvbrmsc0000gn/T/ipykernel_18944/976633855.py:3: FutureWarning: The default dtype for empty Series will be 'object' instead of 'float64' in a future version. Specify a dtype explicitly to silence this warning.\n",
      "  DAC_emission = pd.Series(index=YEAR.VALUE).fillna(0)\n"
     ]
    }
   ],
   "source": [
    "#%% read in GLUCOSE results: AnnualTechnologyEmission - CO2EQ, Direct Air Capture technologies\n",
    "# DAC penetration (C1ENDA1CS + C1ENDA2CS)\n",
    "DAC_emission = pd.Series(index=YEAR.VALUE).fillna(0)\n",
    "\n",
    "csv_file = Path('..', '..', f'{folder_out}', 'results_csv', 'AnnualTechnologyEmission.csv')\n",
    "if not os.path.exists(csv_file):\n",
    "    pass\n",
    "else:\n",
    "    AnnualTechnologyEmission = pd.read_csv(csv_file)\n",
    "    for year in YEAR.VALUE:\n",
    "        DAC_CO2EQ = AnnualTechnologyEmission[((AnnualTechnologyEmission['TECHNOLOGY'] == 'C1ENDA1CS')|(AnnualTechnologyEmission['TECHNOLOGY'] == 'C1ENDA2CS'))&(AnnualTechnologyEmission['EMISSION'] == 'CO2EQ')&(AnnualTechnologyEmission['YEAR'] == year)]\n",
    "        DAC_emission.loc[year] = DAC_CO2EQ['VALUE'].sum()\n"
   ]
  },
  {
   "cell_type": "code",
   "execution_count": 43,
   "metadata": {},
   "outputs": [],
   "source": [
    "output = 'GLUCOSE_Emissions_DAC'\n",
    "\n",
    "#fp = open(f'{output}'+'.p', 'wb')\n",
    "my_path = Path('..', '..', f'{folder_out}', 'results_processed', f'{output}'+'.p') \n",
    "with my_path.open('wb') as fp:\n",
    "    pickle.dump(DAC_emission, fp)"
   ]
  },
  {
   "cell_type": "code",
   "execution_count": 44,
   "metadata": {},
   "outputs": [
    {
     "name": "stderr",
     "output_type": "stream",
     "text": [
      "/var/folders/g0/db564x8n6j14t8scrcvbrmsc0000gn/T/ipykernel_18944/4112921003.py:2: FutureWarning: The default dtype for empty Series will be 'object' instead of 'float64' in a future version. Specify a dtype explicitly to silence this warning.\n",
      "  DAC_emission_diff = pd.Series(index=range(2020,2051))\n"
     ]
    }
   ],
   "source": [
    "# calculate technology penetration rate: AnnualTechnologyEmission - CO2EQ, Direct Air Capture technologies\n",
    "DAC_emission_diff = pd.Series(index=range(2020,2051))\n",
    "for c in DAC_emission_diff.index:\n",
    "    DAC_emission_diff[c]=DAC_emission[c]-DAC_emission[c-1]\n",
    "\n",
    "# save GLUCOSE results: AnnualTechnologyEmission - CO2EQ, Direct Air Capture technologies penetration rate into file\n",
    "output = 'GLUCOSE_Emissions_DAC_diff'\n",
    "\n",
    "#fp = open('..', '..', f'{folder_out}', 'results_processed', f'{output}'+'.p', 'wb')\n",
    "my_path = Path('..', '..', f'{folder_out}', 'results_processed', f'{output}'+'.p') \n",
    "with my_path.open('wb') as fp:\n",
    "    pickle.dump(DAC_emission_diff, fp)"
   ]
  },
  {
   "cell_type": "code",
   "execution_count": 46,
   "metadata": {},
   "outputs": [
    {
     "name": "stdout",
     "output_type": "stream",
     "text": [
      "       C1BFRDF00  C1ELRDF00  C1ELRLF00  C1HFMRF00  C1LFAVF00  C1LFRDF00  \\\n",
      "VALUE                                                                     \n",
      "2010    1.789435   0.000000   0.498099  17.664280   8.418000  60.407161   \n",
      "2011    1.848879   0.000000   0.504868  18.043978   9.004500  62.391373   \n",
      "2012    1.907536   0.000000   0.513162  18.323214   9.453000  64.371243   \n",
      "2013    1.768516   0.000000   0.519659  18.682709   9.915300  66.518975   \n",
      "2014    1.637290   0.000000   0.526026  18.233937  10.405200  68.620088   \n",
      "2015    1.513720   0.000000   0.533885  17.830998  10.922700  70.674723   \n",
      "2016    1.386701   0.000000   0.631857  17.903890  11.460900  72.089888   \n",
      "2017    1.269653   0.000000   0.642005  17.954228  12.033600  73.497221   \n",
      "2018    1.668665   0.000000   0.650367  17.982324  12.627000  74.305051   \n",
      "2019    1.628854   0.000000   0.753312  17.987984  13.254900  75.573034   \n",
      "2020    1.589042   0.000000   0.763811  17.971184  13.632192  76.780708   \n",
      "2021    1.129353   0.000000   0.781063  18.776712  14.029359  78.305974   \n",
      "2022    0.000000   0.369205   0.798316  19.555500  14.429668  79.229296   \n",
      "2023    0.000000   0.409753   0.814000  20.307080  14.847212  80.079872   \n",
      "2024    0.000000   0.449576   1.039849  21.176085  15.274413  80.905458   \n",
      "2025    0.000000   0.505822   1.060238  21.880790  15.713952  81.646911   \n",
      "2026    0.000000   0.561053   1.083764  22.558536  16.173000  82.276410   \n",
      "2027    0.000000   0.623698   1.108859  23.209305  16.641450  82.854345   \n",
      "2028    0.000000   0.693540   1.133953  23.833357  17.126681  83.410289   \n",
      "2029    0.000000   0.762077   1.159048  24.430388  17.630026  83.915670   \n",
      "2030    0.000000   0.845733   1.180221  25.000650  18.144100  84.342916   \n",
      "2031    0.000000   0.944072   1.206884  25.544113  18.676335  85.058463   \n",
      "2032    0.000000   1.048593   1.233547  26.060616  19.223638  85.720198   \n",
      "2033    0.000000   1.167073   1.260209  26.550393  19.791200  86.301299   \n",
      "2034    0.000000   1.299077   1.286872  27.013408  20.373808  86.803265   \n",
      "2035    0.000000   1.444170   1.313535  24.377975  20.974800  87.227595   \n",
      "2036    0.000000   1.430839   1.358234  21.916610  21.597222  88.112241   \n",
      "2037    0.000000   1.417508   1.402934  20.689620  22.239052  88.991972   \n",
      "2038    0.000000   1.404178   1.447633  17.497492  22.903272  89.813394   \n",
      "2039    0.000000   1.390847   1.492333  14.291969  23.582720  90.603328   \n",
      "2040    0.000000   1.377516   1.537032  14.500391  24.285320  91.361774   \n",
      "2041    0.000000   1.364185   1.581731  11.983942  25.013296  91.986441   \n",
      "2042    0.000000   1.350854   1.626431   9.589387  25.768848  92.581619   \n",
      "2043    0.000000   1.337524   1.671130   5.869628  26.539254  93.147310   \n",
      "2044    0.000000   1.324193   1.715830   3.178782  27.340824  93.683512   \n",
      "2045    0.000000   1.310862   1.760529   0.466496  28.171143  94.190226   \n",
      "2046    0.000000   1.297531   1.805228   0.000000  29.020743  94.594480   \n",
      "2047    0.000000   1.284200   1.849928   0.000000  29.901970  94.970746   \n",
      "2048    0.000000   1.270870   1.894627   0.000000  30.812502  95.319024   \n",
      "2049    0.000000   1.257539   1.939327   0.000000  31.749340  95.639312   \n",
      "2050    0.000000   1.244208   1.983242   0.000000  32.725119  95.931612   \n",
      "\n",
      "       C1LFRLF00    C1MHMRF00  \n",
      "VALUE                          \n",
      "2010    3.395644     0.000000  \n",
      "2011    3.469249     0.000000  \n",
      "2012    3.542854     0.000000  \n",
      "2013    3.616459     0.000000  \n",
      "2014    3.694971     0.000000  \n",
      "2015    3.763669     0.000000  \n",
      "2016    3.577203     0.000000  \n",
      "2017    3.650808     0.000000  \n",
      "2018    3.729320     0.000000  \n",
      "2019    3.513412     0.000000  \n",
      "2020    3.582110     0.000000  \n",
      "2021    3.660622     0.000000  \n",
      "2022    3.739134     0.000000  \n",
      "2023    3.822553     0.000000  \n",
      "2024    3.248434     0.000000  \n",
      "2025    3.322039     0.000000  \n",
      "2026    3.395644     0.000000  \n",
      "2027    3.464342     0.000000  \n",
      "2028    3.537947     0.000000  \n",
      "2029    3.606645     0.000000  \n",
      "2030    3.692518     0.000000  \n",
      "2031    3.775937     0.000000  \n",
      "2032    3.859356     0.000000  \n",
      "2033    3.942775     0.000000  \n",
      "2034    4.026194     0.000000  \n",
      "2035    4.109612   154.756017  \n",
      "2036    4.249462   299.570690  \n",
      "2037    4.389311   380.964902  \n",
      "2038    4.529161   567.682034  \n",
      "2039    4.669011   745.377981  \n",
      "2040    4.808860   750.881795  \n",
      "2041    4.948709   891.691218  \n",
      "2042    5.088559  1025.227064  \n",
      "2043    5.228408  1224.149023  \n",
      "2044    5.368258  1370.323059  \n",
      "2045    5.508108  1516.461444  \n",
      "2046    5.647957  1548.560482  \n",
      "2047    5.787807  1555.895240  \n",
      "2048    5.927656  1561.946254  \n",
      "2049    6.067505  1566.723988  \n",
      "2050    6.204901  1570.208676  \n"
     ]
    },
    {
     "ename": "FileNotFoundError",
     "evalue": "[Errno 2] No such file or directory: 'results/GLUCOSE_noDA2CS_14_2/results_processed/GLUCOSE_Transport_EnergyDemand.p'",
     "output_type": "error",
     "traceback": [
      "\u001b[0;31m---------------------------------------------------------------------------\u001b[0m",
      "\u001b[0;31mFileNotFoundError\u001b[0m                         Traceback (most recent call last)",
      "Cell \u001b[0;32mIn [46], line 22\u001b[0m\n\u001b[1;32m     20\u001b[0m \u001b[38;5;66;03m# fp = open('..', '..', f'{folder_out}', 'results_processed', f'{output}'+'.p', 'wb')\u001b[39;00m\n\u001b[1;32m     21\u001b[0m my_path \u001b[38;5;241m=\u001b[39m Path(\u001b[38;5;124mf\u001b[39m\u001b[38;5;124m'\u001b[39m\u001b[38;5;132;01m{\u001b[39;00mfolder_out\u001b[38;5;132;01m}\u001b[39;00m\u001b[38;5;124m'\u001b[39m, \u001b[38;5;124m'\u001b[39m\u001b[38;5;124mresults_processed\u001b[39m\u001b[38;5;124m'\u001b[39m, \u001b[38;5;124mf\u001b[39m\u001b[38;5;124m'\u001b[39m\u001b[38;5;132;01m{\u001b[39;00moutput\u001b[38;5;132;01m}\u001b[39;00m\u001b[38;5;124m'\u001b[39m\u001b[38;5;241m+\u001b[39m\u001b[38;5;124m'\u001b[39m\u001b[38;5;124m.p\u001b[39m\u001b[38;5;124m'\u001b[39m) \n\u001b[0;32m---> 22\u001b[0m \u001b[38;5;28;01mwith\u001b[39;00m \u001b[43mmy_path\u001b[49m\u001b[38;5;241;43m.\u001b[39;49m\u001b[43mopen\u001b[49m\u001b[43m(\u001b[49m\u001b[38;5;124;43m'\u001b[39;49m\u001b[38;5;124;43mwb\u001b[39;49m\u001b[38;5;124;43m'\u001b[39;49m\u001b[43m)\u001b[49m \u001b[38;5;28;01mas\u001b[39;00m fp:\n\u001b[1;32m     23\u001b[0m     pickle\u001b[38;5;241m.\u001b[39mdump(Transport_EnUse, fp)\n",
      "File \u001b[0;32m~/anaconda3/envs/prim_rdm/lib/python3.8/pathlib.py:1222\u001b[0m, in \u001b[0;36mPath.open\u001b[0;34m(self, mode, buffering, encoding, errors, newline)\u001b[0m\n\u001b[1;32m   1220\u001b[0m \u001b[38;5;28;01mif\u001b[39;00m \u001b[38;5;28mself\u001b[39m\u001b[38;5;241m.\u001b[39m_closed:\n\u001b[1;32m   1221\u001b[0m     \u001b[38;5;28mself\u001b[39m\u001b[38;5;241m.\u001b[39m_raise_closed()\n\u001b[0;32m-> 1222\u001b[0m \u001b[38;5;28;01mreturn\u001b[39;00m \u001b[43mio\u001b[49m\u001b[38;5;241;43m.\u001b[39;49m\u001b[43mopen\u001b[49m\u001b[43m(\u001b[49m\u001b[38;5;28;43mself\u001b[39;49m\u001b[43m,\u001b[49m\u001b[43m \u001b[49m\u001b[43mmode\u001b[49m\u001b[43m,\u001b[49m\u001b[43m \u001b[49m\u001b[43mbuffering\u001b[49m\u001b[43m,\u001b[49m\u001b[43m \u001b[49m\u001b[43mencoding\u001b[49m\u001b[43m,\u001b[49m\u001b[43m \u001b[49m\u001b[43merrors\u001b[49m\u001b[43m,\u001b[49m\u001b[43m \u001b[49m\u001b[43mnewline\u001b[49m\u001b[43m,\u001b[49m\n\u001b[1;32m   1223\u001b[0m \u001b[43m               \u001b[49m\u001b[43mopener\u001b[49m\u001b[38;5;241;43m=\u001b[39;49m\u001b[38;5;28;43mself\u001b[39;49m\u001b[38;5;241;43m.\u001b[39;49m\u001b[43m_opener\u001b[49m\u001b[43m)\u001b[49m\n",
      "File \u001b[0;32m~/anaconda3/envs/prim_rdm/lib/python3.8/pathlib.py:1078\u001b[0m, in \u001b[0;36mPath._opener\u001b[0;34m(self, name, flags, mode)\u001b[0m\n\u001b[1;32m   1076\u001b[0m \u001b[38;5;28;01mdef\u001b[39;00m \u001b[38;5;21m_opener\u001b[39m(\u001b[38;5;28mself\u001b[39m, name, flags, mode\u001b[38;5;241m=\u001b[39m\u001b[38;5;241m0o666\u001b[39m):\n\u001b[1;32m   1077\u001b[0m     \u001b[38;5;66;03m# A stub for the opener argument to built-in open()\u001b[39;00m\n\u001b[0;32m-> 1078\u001b[0m     \u001b[38;5;28;01mreturn\u001b[39;00m \u001b[38;5;28;43mself\u001b[39;49m\u001b[38;5;241;43m.\u001b[39;49m\u001b[43m_accessor\u001b[49m\u001b[38;5;241;43m.\u001b[39;49m\u001b[43mopen\u001b[49m\u001b[43m(\u001b[49m\u001b[38;5;28;43mself\u001b[39;49m\u001b[43m,\u001b[49m\u001b[43m \u001b[49m\u001b[43mflags\u001b[49m\u001b[43m,\u001b[49m\u001b[43m \u001b[49m\u001b[43mmode\u001b[49m\u001b[43m)\u001b[49m\n",
      "\u001b[0;31mFileNotFoundError\u001b[0m: [Errno 2] No such file or directory: 'results/GLUCOSE_noDA2CS_14_2/results_processed/GLUCOSE_Transport_EnergyDemand.p'"
     ]
    }
   ],
   "source": [
    "#%% calculate Transport energy demand: UseByTechnology for transport technologies\n",
    "Transport_EnUse = pd.DataFrame(index=YEAR.VALUE, columns=(list(Transport_tech))).fillna(0)\n",
    "\n",
    "results_file = Path('..', '..', f'{folder_out}', 'results_csv', 'UseByTechnology.csv')\n",
    "\n",
    "if not os.path.exists(results_file):\n",
    "    pass\n",
    "else:\n",
    "    UseByTechnology = pd.read_csv(results_file)        \n",
    "    for year in YEAR.VALUE:\n",
    "        for tech in Transport_tech:\n",
    "            transp_temp = UseByTechnology[(UseByTechnology['TECHNOLOGY'] == tech)&(UseByTechnology['YEAR'] == year)]\n",
    "            #print(transp_temp)\n",
    "            Transport_EnUse.loc[year,tech] = transp_temp['VALUE'].sum()\n",
    "print(Transport_EnUse)\n",
    "\n",
    "# save GLUCOSE results: Transport_EnergyDemand\n",
    "output = 'GLUCOSE_Transport_EnergyDemand'\n",
    "\n",
    "# fp = open('..', '..', f'{folder_out}', 'results_processed', f'{output}'+'.p', 'wb')\n",
    "my_path = Path('..', '..', f'{folder_out}', 'results_processed', f'{output}'+'.p') \n",
    "with my_path.open('wb') as fp:\n",
    "    pickle.dump(Transport_EnUse, fp)"
   ]
  }
 ],
 "metadata": {
  "kernelspec": {
   "display_name": "Python 3.8.13 ('prim_rdm')",
   "language": "python",
   "name": "python3"
  },
  "language_info": {
   "codemirror_mode": {
    "name": "ipython",
    "version": 3
   },
   "file_extension": ".py",
   "mimetype": "text/x-python",
   "name": "python",
   "nbconvert_exporter": "python",
   "pygments_lexer": "ipython3",
   "version": "3.8.13"
  },
  "orig_nbformat": 4,
  "vscode": {
   "interpreter": {
    "hash": "3d129f0a3c6c9988f76ad57f06e4f1e11ab2d90427380afbc73b484ae1e7a717"
   }
  }
 },
 "nbformat": 4,
 "nbformat_minor": 2
}
